{
 "cells": [
  {
   "cell_type": "markdown",
   "id": "9d636f7d",
   "metadata": {},
   "source": [
    "![alt text](<Screenshot (104).png>)\n",
    "\n",
    "\n",
    "![alt text](<Screenshot (106).png>)\n",
    "\n"
   ]
  },
  {
   "cell_type": "markdown",
   "id": "81575a5c",
   "metadata": {},
   "source": [
    "![alt text](<Screenshot (107).png>)\n",
    "\n",
    "![alt text](<Screenshot (108).png>)\n",
    "\n"
   ]
  },
  {
   "cell_type": "markdown",
   "id": "2b182d0c",
   "metadata": {},
   "source": [
    "# In underfitting we didn't explore all the depth, that's why query give result those section, that's why the result is not corrected."
   ]
  },
  {
   "cell_type": "markdown",
   "id": "32fd06ff",
   "metadata": {},
   "source": []
  }
 ],
 "metadata": {
  "language_info": {
   "name": "python"
  }
 },
 "nbformat": 4,
 "nbformat_minor": 5
}
