{
 "cells": [
  {
   "cell_type": "markdown",
   "id": "9db0f1ca",
   "metadata": {},
   "source": [
    "# Decision tree are nested if-else condition.\n"
   ]
  },
  {
   "cell_type": "markdown",
   "id": "61845ce9",
   "metadata": {},
   "source": [
    "![alt text](<Screenshot (56).png>)"
   ]
  },
  {
   "cell_type": "markdown",
   "id": "4e70145c",
   "metadata": {},
   "source": [
    "![alt text](<Screenshot (57).png>)"
   ]
  },
  {
   "cell_type": "markdown",
   "id": "1a2bb863",
   "metadata": {},
   "source": [
    "# EX - 02"
   ]
  },
  {
   "cell_type": "markdown",
   "id": "5028afe2",
   "metadata": {},
   "source": [
    "![alt text](<Screenshot (58).png>)\n",
    "![alt text](<Screenshot (59).png>)\n",
    "![alt text](<Screenshot (60).png>)"
   ]
  },
  {
   "cell_type": "markdown",
   "id": "669ab728",
   "metadata": {},
   "source": [
    "![alt text](<Screenshot (61).png>)\n",
    "\n",
    "![alt text](<Screenshot (62).png>)"
   ]
  },
  {
   "cell_type": "markdown",
   "id": "04d36541",
   "metadata": {},
   "source": [
    "![alt text](<Screenshot (63).png>)\n",
    "\n",
    "Now when PL is less than 2, we drwa the line vertically , then SL is less than 1.5 , we draw the horizontal line.\n",
    "\n",
    "![alt text](<Screenshot (64).png>)"
   ]
  },
  {
   "cell_type": "markdown",
   "id": "74f43b22",
   "metadata": {},
   "source": [
    "# DT processs :\n",
    "\n",
    "![alt text](<Screenshot (65).png>)"
   ]
  },
  {
   "cell_type": "markdown",
   "id": "0f4c2995",
   "metadata": {},
   "source": [
    "![alt text](<Screenshot (66).png>)\n",
    "\n",
    "![alt text](<Screenshot (68)-1.png>)"
   ]
  },
  {
   "cell_type": "markdown",
   "id": "effa7a02",
   "metadata": {},
   "source": [
    "![alt text](<Screenshot (69).png>)"
   ]
  },
  {
   "cell_type": "markdown",
   "id": "6c1016cc",
   "metadata": {},
   "source": [
    "![alt text](<Screenshot (70).png>)\n",
    "\n",
    "\n",
    "![alt text](<Screenshot (71).png>) "
   ]
  },
  {
   "cell_type": "markdown",
   "id": "49a07b11",
   "metadata": {},
   "source": [
    "# DT LOGIC USE in AKINATOR GAME."
   ]
  },
  {
   "cell_type": "markdown",
   "id": "b0e7d0f1",
   "metadata": {},
   "source": [
    "# Decision Trees Entropy"
   ]
  },
  {
   "cell_type": "markdown",
   "id": "fc8ae4c0",
   "metadata": {},
   "source": [
    "![alt text](<Screenshot (79).png>)\n",
    "\n",
    "# here ICE entropy is highest\n",
    "\n",
    "![alt text](<Screenshot (73).png>)\n",
    "\n",
    "# Here dataset 01 have higher entropy , because this one have more results than dataset 02\n",
    "\n",
    "![alt text](<Screenshot (75).png>)\n",
    "\n",
    "![alt text](<Screenshot (77).png>)\n",
    "\n",
    "![alt text](<Screenshot (78).png>)\n"
   ]
  },
  {
   "cell_type": "markdown",
   "id": "5d9f8feb",
   "metadata": {},
   "source": [
    "![alt text](<Screenshot (81).png>)\n",
    "\n",
    "![alt text](<Screenshot (82).png>)\n",
    "\n",
    "![alt text](<Screenshot (83).png>)\n",
    "\n"
   ]
  },
  {
   "cell_type": "markdown",
   "id": "dec62068",
   "metadata": {},
   "source": [
    "![alt text](<Screenshot (85).png>)\n",
    "\n",
    "\n",
    "# Here , less range -1 to 1 , where we can get points, so dataset 01 have higher entropy. so ploting KDE we can get entropy from the large continuous dataset"
   ]
  },
  {
   "cell_type": "markdown",
   "id": "28668fb4",
   "metadata": {},
   "source": [
    "![alt text](<Screenshot (87).png>)\n",
    "\n",
    "![alt text](<Screenshot (88).png>)\n",
    "\n",
    "![alt text](<Screenshot (91).png>)\n",
    "\n",
    "![alt text](<Screenshot (93).png>)\n",
    "\n",
    "![alt text](<Screenshot (95).png>)\n",
    "\n",
    "![alt text](<Screenshot (96).png>)\n",
    "\n",
    "![alt text](<Screenshot (98).png>)"
   ]
  },
  {
   "cell_type": "markdown",
   "id": "319e4272",
   "metadata": {},
   "source": [
    "# GINI IMPURITY"
   ]
  },
  {
   "cell_type": "markdown",
   "id": "f13fdb30",
   "metadata": {},
   "source": [
    "![alt text](<Screenshot (99).png>)\n",
    "\n"
   ]
  },
  {
   "cell_type": "markdown",
   "id": "ce93d8fd",
   "metadata": {},
   "source": [
    "![alt text](<Screenshot (100).png>)\n",
    "\n",
    "Here Some key points ->\n",
    "\n",
    "* Information gain calculate by GINI\n",
    "* Gini is better than entropy\n",
    "* IN 2 class Gini highest value 0.5, where Entropy has 1"
   ]
  },
  {
   "cell_type": "markdown",
   "id": "233d359d",
   "metadata": {},
   "source": [
    "# Handling Numerical Data\n",
    "\n"
   ]
  },
  {
   "cell_type": "markdown",
   "id": "4ff08f41",
   "metadata": {},
   "source": [
    "![alt text](<Screenshot (101).png>)\n",
    "\n"
   ]
  },
  {
   "cell_type": "markdown",
   "id": "cf7420f9",
   "metadata": {},
   "source": []
  }
 ],
 "metadata": {
  "language_info": {
   "name": "python"
  }
 },
 "nbformat": 4,
 "nbformat_minor": 5
}
