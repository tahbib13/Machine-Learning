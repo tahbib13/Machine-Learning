{
 "cells": [
  {
   "cell_type": "code",
   "execution_count": 2,
   "metadata": {},
   "outputs": [],
   "source": [
    "import pandas as pd\n",
    "import requests"
   ]
  },
  {
   "cell_type": "code",
   "execution_count": 15,
   "metadata": {},
   "outputs": [
    {
     "name": "stdout",
     "output_type": "stream",
     "text": [
      "<class 'pandas.core.frame.DataFrame'>\n",
      "RangeIndex: 1 entries, 0 to 0\n",
      "Data columns (total 1 columns):\n",
      " #   Column  Non-Null Count  Dtype \n",
      "---  ------  --------------  ----- \n",
      " 0   0       1 non-null      object\n",
      "dtypes: object(1)\n",
      "memory usage: 140.0+ bytes\n"
     ]
    }
   ],
   "source": [
    "import requests\n",
    "\n",
    "url = \"https://google-translator9.p.rapidapi.com/v2/detect\"\n",
    "\n",
    "payload = { \"q\": \"Ce mai faci?\" }\n",
    "headers = {\n",
    "\t\"x-rapidapi-key\": \"8303b28b8bmshb7b6d85f615974dp104148jsnd86ad96d1f33\",\n",
    "\t\"x-rapidapi-host\": \"google-translator9.p.rapidapi.com\",\n",
    "\t\"Content-Type\": \"application/json\"\n",
    "}\n",
    "\n",
    "response = requests.post(url, json=payload, headers=headers)\n",
    "\n",
    "df = pd.DataFrame(response)\n",
    "df.info()\n",
    "\n",
    "#print(response.json())"
   ]
  },
  {
   "cell_type": "code",
   "execution_count": 21,
   "metadata": {},
   "outputs": [
    {
     "data": {
      "text/html": [
       "<div>\n",
       "<style scoped>\n",
       "    .dataframe tbody tr th:only-of-type {\n",
       "        vertical-align: middle;\n",
       "    }\n",
       "\n",
       "    .dataframe tbody tr th {\n",
       "        vertical-align: top;\n",
       "    }\n",
       "\n",
       "    .dataframe thead th {\n",
       "        text-align: right;\n",
       "    }\n",
       "</style>\n",
       "<table border=\"1\" class=\"dataframe\">\n",
       "  <thead>\n",
       "    <tr style=\"text-align: right;\">\n",
       "      <th></th>\n",
       "      <th>0</th>\n",
       "    </tr>\n",
       "  </thead>\n",
       "  <tbody>\n",
       "    <tr>\n",
       "      <th>0</th>\n",
       "      <td>b'{\"result\":{\"id\":\"1\",\"sura\":\"1\",\"aya\":\"1\",\"ar...</td>\n",
       "    </tr>\n",
       "    <tr>\n",
       "      <th>1</th>\n",
       "      <td>b'7\\\\u0650 \\\\u0671\\\\u0644\\\\u0631\\\\u0651\\\\u064e...</td>\n",
       "    </tr>\n",
       "    <tr>\n",
       "      <th>2</th>\n",
       "      <td>b'a\\\\u0645\\\\u0650\",\"translation\":\"In the name ...</td>\n",
       "    </tr>\n",
       "  </tbody>\n",
       "</table>\n",
       "</div>"
      ],
      "text/plain": [
       "                                                   0\n",
       "0  b'{\"result\":{\"id\":\"1\",\"sura\":\"1\",\"aya\":\"1\",\"ar...\n",
       "1  b'7\\\\u0650 \\\\u0671\\\\u0644\\\\u0631\\\\u0651\\\\u064e...\n",
       "2  b'a\\\\u0645\\\\u0650\",\"translation\":\"In the name ..."
      ]
     },
     "execution_count": 21,
     "metadata": {},
     "output_type": "execute_result"
    }
   ],
   "source": [
    "import requests\n",
    "\n",
    "url = \"https://al-qur-an-all-translations.p.rapidapi.com/api/v1/translation/aya/english_rwwad/1/1\"\n",
    "\n",
    "headers = {\n",
    "\t\"x-rapidapi-key\": \"8303b28b8bmshb7b6d85f615974dp104148jsnd86ad96d1f33\",\n",
    "\t\"x-rapidapi-host\": \"al-qur-an-all-translations.p.rapidapi.com\"\n",
    "}\n",
    "\n",
    "response = requests.get(url, headers=headers)\n",
    "\n",
    "df = pd.DataFrame(response)\n",
    "df\n",
    "\n",
    "#print(response.json())"
   ]
  },
  {
   "cell_type": "code",
   "execution_count": 24,
   "metadata": {},
   "outputs": [],
   "source": [
    "import requests\n",
    "\n",
    "url = \"https://tank01-mlb-live-in-game-real-time-statistics.p.rapidapi.com/getMLBSplits\"\n",
    "\n",
    "querystring = {\"playerID\":\"660271\",\"splitType\":\"batting\",\"season\":\"2023\"}\n",
    "\n",
    "headers = {\n",
    "\t\"x-rapidapi-key\": \"8303b28b8bmshb7b6d85f615974dp104148jsnd86ad96d1f33\",\n",
    "\t\"x-rapidapi-host\": \"tank01-mlb-live-in-game-real-time-statistics.p.rapidapi.com\"\n",
    "}\n",
    "\n",
    "response = requests.get(url, headers=headers, params=querystring)\n",
    "\n",
    "#print(response.json())"
   ]
  },
  {
   "cell_type": "code",
   "execution_count": 30,
   "metadata": {},
   "outputs": [
    {
     "data": {
      "text/html": [
       "<div>\n",
       "<style scoped>\n",
       "    .dataframe tbody tr th:only-of-type {\n",
       "        vertical-align: middle;\n",
       "    }\n",
       "\n",
       "    .dataframe tbody tr th {\n",
       "        vertical-align: top;\n",
       "    }\n",
       "\n",
       "    .dataframe thead th {\n",
       "        text-align: right;\n",
       "    }\n",
       "</style>\n",
       "<table border=\"1\" class=\"dataframe\">\n",
       "  <thead>\n",
       "    <tr style=\"text-align: right;\">\n",
       "      <th></th>\n",
       "      <th>0</th>\n",
       "    </tr>\n",
       "  </thead>\n",
       "  <tbody>\n",
       "    <tr>\n",
       "      <th>0</th>\n",
       "      <td>b'{\"statusCode\": 200, \"body\": {\"playerID\": \"66...</td>\n",
       "    </tr>\n",
       "    <tr>\n",
       "      <th>1</th>\n",
       "      <td>b'\": \"263\", \"H\": \"85\", \"HR\": \"22\", \"3B\": \"5\", ...</td>\n",
       "    </tr>\n",
       "    <tr>\n",
       "      <th>2</th>\n",
       "      <td>b'1.097\", \"HBP\": \"3\", \"RBI\": \"54\", \"SO\": \"64\",...</td>\n",
       "    </tr>\n",
       "    <tr>\n",
       "      <th>3</th>\n",
       "      <td>b'\": \"8\", \"SB\": \"20\", \"SLG\": \".654\", \"2B\": \"26...</td>\n",
       "    </tr>\n",
       "    <tr>\n",
       "      <th>4</th>\n",
       "      <td>b'O\": \"143\", \"OBP\": \".412\"}, \"Night\": {\"BB\": \"...</td>\n",
       "    </tr>\n",
       "  </tbody>\n",
       "</table>\n",
       "</div>"
      ],
      "text/plain": [
       "                                                   0\n",
       "0  b'{\"statusCode\": 200, \"body\": {\"playerID\": \"66...\n",
       "1  b'\": \"263\", \"H\": \"85\", \"HR\": \"22\", \"3B\": \"5\", ...\n",
       "2  b'1.097\", \"HBP\": \"3\", \"RBI\": \"54\", \"SO\": \"64\",...\n",
       "3  b'\": \"8\", \"SB\": \"20\", \"SLG\": \".654\", \"2B\": \"26...\n",
       "4  b'O\": \"143\", \"OBP\": \".412\"}, \"Night\": {\"BB\": \"..."
      ]
     },
     "execution_count": 30,
     "metadata": {},
     "output_type": "execute_result"
    }
   ],
   "source": [
    "df = pd.DataFrame(response)\n",
    "df.head()"
   ]
  }
 ],
 "metadata": {
  "kernelspec": {
   "display_name": "Python 3",
   "language": "python",
   "name": "python3"
  },
  "language_info": {
   "codemirror_mode": {
    "name": "ipython",
    "version": 3
   },
   "file_extension": ".py",
   "mimetype": "text/x-python",
   "name": "python",
   "nbconvert_exporter": "python",
   "pygments_lexer": "ipython3",
   "version": "3.12.2"
  }
 },
 "nbformat": 4,
 "nbformat_minor": 2
}
